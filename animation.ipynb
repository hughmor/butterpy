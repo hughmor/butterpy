{
 "cells": [
  {
   "cell_type": "code",
   "execution_count": 4,
   "id": "diagnostic-somalia",
   "metadata": {},
   "outputs": [],
   "source": [
    "from butterpy.systems import Lorenz\n",
    "from butterpy.plot import LineAnimation\n",
    "import numpy as np"
   ]
  },
  {
   "cell_type": "code",
   "execution_count": 9,
   "id": "built-consultation",
   "metadata": {},
   "outputs": [],
   "source": [
    "# Setting plot quality options\n",
    "PARS_TEST = {\n",
    "    \"fig_params\": {\n",
    "        \"fig_size\":(6,6),\n",
    "        \"dpi\":64,\n",
    "        \"br\":512,\n",
    "        \"fps\":30,\n",
    "        \"intvl\":1000,\n",
    "        \"n_skip\":1,\n",
    "        \"line_cmap\": \"plasma\",\n",
    "        \"bg_color\": \"#008080\",\n",
    "        \"azimuth\": (0.0,360.0),\n",
    "        \"elevation\": 0.0,\n",
    "        \"distance\": 10.0,\n",
    "        \"line_length\": 0.4,\n",
    "        \"line_start_visible\": False,\n",
    "    },\n",
    "    \"sim_params\": {\n",
    "        \"sim_time\":2.5,\n",
    "        \"sim_dt\":0.01,\n",
    "    }\n",
    "}\n",
    "\n",
    "PARS_PROD = {\n",
    "    \"fig_params\": {\n",
    "        \"fig_size\":(12,12),\n",
    "        \"dpi\":128,\n",
    "        \"br\":-1,\n",
    "        \"fps\":60,\n",
    "        \"intvl\":1,\n",
    "        \"n_skip\":1,\n",
    "        \"line_cmap\": \"plasma\",\n",
    "        \"bg_color\": \"#000000\",\n",
    "        \"azimuth\": (0.0,360.0),\n",
    "        \"elevation\": 1.0,\n",
    "        \"distance\": 10.0,\n",
    "        \"line_length\": 0.4,\n",
    "        \"line_start_visible\": False,\n",
    "    },\n",
    "    \"sim_params\": {\n",
    "        \"sim_time\":5.0,\n",
    "        \"sim_dt\":0.001,\n",
    "    }\n",
    "}\n",
    "\n",
    "PARS = PARS_PROD"
   ]
  },
  {
   "cell_type": "code",
   "execution_count": 10,
   "id": "regulated-karen",
   "metadata": {},
   "outputs": [],
   "source": [
    "sim_time, sim_dt = PARS[\"sim_params\"].values()\n",
    "\n",
    "lrnz = Lorenz.random_system()\n",
    "t = np.arange(0.0, sim_time, sim_dt)\n",
    "lrnz.simulate(t)"
   ]
  },
  {
   "cell_type": "code",
   "execution_count": 11,
   "id": "parallel-veteran",
   "metadata": {},
   "outputs": [
    {
     "name": "stdout",
     "output_type": "stream",
     "text": [
      "Done rendering: saved as testing.mp4\n"
     ]
    },
    {
     "data": {
      "image/png": "[encoded data removed]",
      "text/plain": [
       "<Figure size 768x512 with 1 Axes>"
      ]
     },
     "metadata": {},
     "output_type": "display_data"
    }
   ],
   "source": [
    "animation = LineAnimation(lrnz, **PARS[\"fig_params\"])"
   ]
  },
  {
   "cell_type": "code",
   "execution_count": null,
   "id": "bridal-providence",
   "metadata": {},
   "outputs": [],
   "source": []
  }
 ],
 "metadata": {
  "kernelspec": {
   "display_name": "Python 3",
   "language": "python",
   "name": "python3"
  },
  "language_info": {
   "codemirror_mode": {
    "name": "ipython",
    "version": 3
   },
   "file_extension": ".py",
   "mimetype": "text/x-python",
   "name": "python",
   "nbconvert_exporter": "python",
   "pygments_lexer": "ipython3",
   "version": "3.8.8"
  }
 },
 "nbformat": 4,
 "nbformat_minor": 5
}
